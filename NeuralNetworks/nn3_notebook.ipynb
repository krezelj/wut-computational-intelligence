{
 "cells": [
  {
   "cell_type": "code",
   "execution_count": 6,
   "metadata": {},
   "outputs": [
    {
     "name": "stdout",
     "output_type": "stream",
     "text": [
      "The autoreload extension is already loaded. To reload it, use:\n",
      "  %reload_ext autoreload\n"
     ]
    }
   ],
   "source": [
    "%load_ext autoreload\n",
    "%autoreload 2\n",
    "\n",
    "import numpy as np\n",
    "import pandas as pd\n",
    "import seaborn as sns\n",
    "from sklearn.metrics import mean_squared_error\n",
    "from src.mlp import MLP\n",
    "from src.layer import Layer\n",
    "from src.visualisation import plot"
   ]
  },
  {
   "attachments": {},
   "cell_type": "markdown",
   "metadata": {},
   "source": [
    "### Squares Simple"
   ]
  },
  {
   "cell_type": "code",
   "execution_count": 2,
   "metadata": {},
   "outputs": [],
   "source": [
    "df_training = pd.read_csv(\"data/mio1/regression/square-simple-training.csv\", index_col=0)\n",
    "df_test = pd.read_csv(\"data/mio1/regression/square-simple-test.csv\", index_col=0)\n",
    "\n",
    "x_train = df_training['x'].values.reshape(1, len(df_training))\n",
    "y_train = df_training['y'].values.reshape(1, len(df_training))\n",
    "\n",
    "x_test = df_test['x'].values.reshape(1, len(df_test))\n",
    "y_test = df_test['y'].values.reshape(1, len(df_test))\n",
    "\n",
    "y_max = np.max(y_train)\n",
    "y_min = np.min(y_train)\n",
    "y_train_normalised = (y_train - y_min) / (y_max - y_min)"
   ]
  },
  {
   "cell_type": "code",
   "execution_count": 7,
   "metadata": {},
   "outputs": [],
   "source": [
    "model = MLP(layers=[\n",
    "    Layer(1, 4, activation_name=\"sigmoid\"),\n",
    "    Layer(4, 4, activation_name=\"sigmoid\"),\n",
    "    Layer(4, 1, activation_name=\"linear\")\n",
    "])"
   ]
  },
  {
   "cell_type": "code",
   "execution_count": null,
   "metadata": {},
   "outputs": [],
   "source": [
    "loss = model.fit(x_train, y_train_normalised, learning_rate=0.05, epochs=5e4, verbose=1, batch_size=20)"
   ]
  },
  {
   "attachments": {},
   "cell_type": "markdown",
   "metadata": {},
   "source": [
    "**Loss history**"
   ]
  },
  {
   "cell_type": "code",
   "execution_count": null,
   "metadata": {},
   "outputs": [],
   "source": [
    "sns.lineplot(loss[0:])"
   ]
  },
  {
   "cell_type": "markdown",
   "metadata": {},
   "source": [
    "**Model visualisation**"
   ]
  },
  {
   "cell_type": "code",
   "execution_count": null,
   "metadata": {},
   "outputs": [],
   "source": [
    "plot(model, log_weights=False)"
   ]
  },
  {
   "attachments": {},
   "cell_type": "markdown",
   "metadata": {},
   "source": [
    "**Training set MSE**"
   ]
  },
  {
   "cell_type": "code",
   "execution_count": null,
   "metadata": {},
   "outputs": [],
   "source": [
    "y_predicted_normalised = model.predict(x_train)\n",
    "\n",
    "# denormalise\n",
    "y_predicted = y_predicted_normalised * (y_max - y_min) + y_min\n",
    "print(mean_squared_error(y_train, y_predicted))"
   ]
  },
  {
   "cell_type": "markdown",
   "metadata": {},
   "source": [
    "**Test set MSE**"
   ]
  },
  {
   "cell_type": "code",
   "execution_count": null,
   "metadata": {},
   "outputs": [],
   "source": [
    "y_predicted_normalised = model.predict(x_test)\n",
    "\n",
    "# denormalise\n",
    "y_predicted = y_predicted_normalised * (y_max - y_min) + y_min\n",
    "print(mean_squared_error(y_test, y_predicted))"
   ]
  },
  {
   "cell_type": "markdown",
   "metadata": {},
   "source": [
    "**Data visualisation**"
   ]
  },
  {
   "cell_type": "code",
   "execution_count": null,
   "metadata": {},
   "outputs": [],
   "source": [
    "sns.scatterplot(x=x_test.reshape(len(df_test)),y=y_predicted.reshape(len(df_test)))\n",
    "sns.scatterplot(x=x_test.reshape(len(df_test)),y=y_test.reshape(len(df_test)))"
   ]
  },
  {
   "attachments": {},
   "cell_type": "markdown",
   "metadata": {},
   "source": [
    "### Steps Small"
   ]
  },
  {
   "cell_type": "code",
   "execution_count": 18,
   "metadata": {},
   "outputs": [],
   "source": [
    "df_training = pd.read_csv(\"data/mio1/regression/steps-large-training.csv\", index_col=0)\n",
    "df_test = pd.read_csv(\"data/mio1/regression/steps-large-test.csv\", index_col=0)\n",
    "\n",
    "x_train = df_training['x'].values.reshape(1, len(df_training))\n",
    "y_train = df_training['y'].values.reshape(1, len(df_training))\n",
    "\n",
    "x_test = df_test['x'].values.reshape(1, len(df_test))\n",
    "y_test = df_test['y'].values.reshape(1, len(df_test))\n",
    "\n",
    "y_max = np.max(y_train)\n",
    "y_min = np.min(y_train)\n",
    "y_train_normalised = (y_train - y_min) / (y_max - y_min)"
   ]
  },
  {
   "cell_type": "markdown",
   "metadata": {},
   "source": [
    "**Model visualisation**"
   ]
  },
  {
   "cell_type": "code",
   "execution_count": null,
   "metadata": {},
   "outputs": [],
   "source": [
    "plot(model, log_weights=False)"
   ]
  },
  {
   "attachments": {},
   "cell_type": "markdown",
   "metadata": {},
   "source": [
    "**Training set MSE**"
   ]
  },
  {
   "cell_type": "code",
   "execution_count": null,
   "metadata": {},
   "outputs": [],
   "source": [
    "y_predicted_normalised = model.predict(x_train)\n",
    "\n",
    "# denormalise\n",
    "y_predicted = y_predicted_normalised * (y_max - y_min) + y_min\n",
    "print(mean_squared_error(y_train, y_predicted))"
   ]
  },
  {
   "cell_type": "markdown",
   "metadata": {},
   "source": [
    "**Test set MSE**"
   ]
  },
  {
   "cell_type": "code",
   "execution_count": null,
   "metadata": {},
   "outputs": [],
   "source": [
    "y_predicted_normalised = model.predict(x_test)\n",
    "\n",
    "# denormalise\n",
    "y_predicted = y_predicted_normalised * (y_max - y_min) + y_min\n",
    "print(mean_squared_error(y_test, y_predicted))"
   ]
  },
  {
   "cell_type": "markdown",
   "metadata": {},
   "source": [
    "**Data visualisation**"
   ]
  },
  {
   "cell_type": "code",
   "execution_count": null,
   "metadata": {},
   "outputs": [],
   "source": [
    "sns.scatterplot(x=x_test.reshape(len(df_test)),y=y_predicted.reshape(len(df_test)))\n",
    "sns.scatterplot(x=x_test.reshape(len(df_test)),y=y_test.reshape(len(df_test)))"
   ]
  },
  {
   "cell_type": "markdown",
   "metadata": {},
   "source": [
    "### Multimodal Large"
   ]
  },
  {
   "cell_type": "code",
   "execution_count": 453,
   "metadata": {},
   "outputs": [],
   "source": [
    "df_training = pd.read_csv(\"data/mio1/regression/multimodal-large-training.csv\")\n",
    "df_test = pd.read_csv(\"data/mio1/regression/multimodal-large-test.csv\")\n",
    "\n",
    "x_train = df_training['x'].values.reshape(1, len(df_training))\n",
    "y_train = df_training['y'].values.reshape(1, len(df_training))\n",
    "\n",
    "x_test = df_test['x'].values.reshape(1, len(df_test))\n",
    "y_test = df_test['y'].values.reshape(1, len(df_test))\n",
    "\n",
    "y_max = np.max(y_train)\n",
    "y_min = np.min(y_train)\n",
    "y_train_normalised = (y_train - y_min) / (y_max - y_min)"
   ]
  },
  {
   "cell_type": "code",
   "execution_count": 455,
   "metadata": {},
   "outputs": [],
   "source": [
    "model = MLP(layers=[\n",
    "    Layer(1, 10, activation=\"sigmoid\"),\n",
    "    Layer(10, 10, activation=\"sigmoid\"),\n",
    "    Layer(10, 1, activation=\"linear\")\n",
    "])"
   ]
  },
  {
   "cell_type": "code",
   "execution_count": null,
   "metadata": {},
   "outputs": [],
   "source": [
    "loss = model.fit(x_train, y_train_normalised, learning_rate=0.002, epochs=20e3, verbose=1, batch_size=1000)"
   ]
  },
  {
   "cell_type": "code",
   "execution_count": null,
   "metadata": {},
   "outputs": [],
   "source": [
    "sns.lineplot(loss[0:])"
   ]
  },
  {
   "cell_type": "code",
   "execution_count": null,
   "metadata": {},
   "outputs": [],
   "source": [
    "plot(model, log_weights=True)"
   ]
  },
  {
   "attachments": {},
   "cell_type": "markdown",
   "metadata": {},
   "source": [
    "**Training MSE**"
   ]
  },
  {
   "cell_type": "code",
   "execution_count": 512,
   "metadata": {},
   "outputs": [
    {
     "name": "stdout",
     "output_type": "stream",
     "text": [
      "9.217697097845122\n"
     ]
    }
   ],
   "source": [
    "y_predicted_normalised = model.predict(x_train)\n",
    "\n",
    "# denormalise\n",
    "y_predicted = y_predicted_normalised * (y_max - y_min) + y_min\n",
    "print(mean_squared_error(y_train, y_predicted))"
   ]
  },
  {
   "attachments": {},
   "cell_type": "markdown",
   "metadata": {},
   "source": [
    "**Test MSE**"
   ]
  },
  {
   "cell_type": "code",
   "execution_count": 513,
   "metadata": {},
   "outputs": [
    {
     "name": "stdout",
     "output_type": "stream",
     "text": [
      "5.4693582611620295\n"
     ]
    }
   ],
   "source": [
    "y_predicted_normalised = model.predict(x_test)\n",
    "\n",
    "# denormalise\n",
    "y_predicted = y_predicted_normalised * (y_max - y_min) + y_min\n",
    "print(mean_squared_error(y_test, y_predicted))"
   ]
  },
  {
   "attachments": {},
   "cell_type": "markdown",
   "metadata": {},
   "source": [
    "**Data Visualisation**"
   ]
  },
  {
   "cell_type": "code",
   "execution_count": null,
   "metadata": {},
   "outputs": [],
   "source": [
    "sns.scatterplot(x=x_test.reshape(len(df_test)),y=y_predicted.reshape(len(df_test)))\n",
    "sns.scatterplot(x=x_test.reshape(len(df_test)),y=y_test.reshape(len(df_test)))"
   ]
  }
 ],
 "metadata": {
  "kernelspec": {
   "display_name": "Python 3",
   "language": "python",
   "name": "python3"
  },
  "language_info": {
   "codemirror_mode": {
    "name": "ipython",
    "version": 3
   },
   "file_extension": ".py",
   "mimetype": "text/x-python",
   "name": "python",
   "nbconvert_exporter": "python",
   "pygments_lexer": "ipython3",
   "version": "3.11.2"
  },
  "orig_nbformat": 4,
  "vscode": {
   "interpreter": {
    "hash": "58496daee2729ba9e6e52835467dc745b83d105c386a61418badbdb5205db12f"
   }
  }
 },
 "nbformat": 4,
 "nbformat_minor": 2
}
