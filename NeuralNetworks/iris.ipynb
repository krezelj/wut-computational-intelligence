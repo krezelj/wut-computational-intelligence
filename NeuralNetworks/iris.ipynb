{
 "cells": [
  {
   "cell_type": "code",
   "execution_count": 1,
   "metadata": {},
   "outputs": [],
   "source": [
    "import numpy as np\n",
    "import pandas as pd\n",
    "import seaborn as sns\n",
    "\n",
    "from src.mlp import MLP\n",
    "from src.layer import Layer\n",
    "from src.activations import *\n",
    "from src.optimisers import Adam\n",
    "from src.visualisation import plot\n",
    "\n",
    "from sklearn.metrics import mean_squared_error, log_loss, f1_score, confusion_matrix\n",
    "from sklearn.preprocessing import OneHotEncoder, StandardScaler\n",
    "from sklearn.model_selection import ParameterGrid"
   ]
  },
  {
   "cell_type": "code",
   "execution_count": 2,
   "metadata": {},
   "outputs": [],
   "source": [
    "def get_data_classification():\n",
    "    df_training = pd.read_csv(f\"data/iris.csv\",header=None)\n",
    "    df_test = pd.read_csv(f\"data/iris.csv\", header=None)\n",
    "\n",
    "    x_train = df_training[[0, 1, 2, 3]].values.T\n",
    "    y_train = df_training[[4]].values.reshape(-1, 1)\n",
    "\n",
    "    x_test = df_test[[0, 1, 2, 3]].values.T\n",
    "    y_test = df_test[[4]].values.reshape(-1, 1)\n",
    "\n",
    "    enc = OneHotEncoder(sparse_output=False)\n",
    "    y_train_oh = enc.fit_transform(y_train).T\n",
    "    y_test_oh = enc.transform(y_test).T\n",
    "\n",
    "    standard_scaler = StandardScaler()\n",
    "    x_train = standard_scaler.fit_transform(x_train.T).T\n",
    "    x_test = standard_scaler.transform(x_test.T).T\n",
    "\n",
    "    return x_train, y_train_oh, x_test, y_test_oh"
   ]
  },
  {
   "cell_type": "code",
   "execution_count": 3,
   "metadata": {},
   "outputs": [],
   "source": [
    "X_train, Y_train, X_test, Y_test = get_data_classification()"
   ]
  },
  {
   "cell_type": "code",
   "execution_count": 7,
   "metadata": {},
   "outputs": [],
   "source": [
    "model = MLP([Layer(4, 3), Softmax(),  ], Adam())"
   ]
  },
  {
   "cell_type": "code",
   "execution_count": 8,
   "metadata": {},
   "outputs": [
    {
     "data": {
      "text/plain": [
       "273.53142493723857"
      ]
     },
     "execution_count": 8,
     "metadata": {},
     "output_type": "execute_result"
    }
   ],
   "source": [
    "log_loss(Y_train, model.predict(X_train))"
   ]
  },
  {
   "cell_type": "code",
   "execution_count": 14,
   "metadata": {},
   "outputs": [
    {
     "data": {
      "text/plain": [
       "([1.3070311829416024], [1.3070311829416024])"
      ]
     },
     "execution_count": 14,
     "metadata": {},
     "output_type": "execute_result"
    }
   ],
   "source": [
    "model.fit(X_train, Y_train, X_test, Y_test, 1, batch_size=150, loss_function_name='log_loss')"
   ]
  },
  {
   "cell_type": "code",
   "execution_count": 12,
   "metadata": {},
   "outputs": [
    {
     "data": {
      "text/plain": [
       "array([[-1.05357918, -0.07086479,  0.81085666, -0.2260313 ],\n",
       "       [ 0.06436138, -0.37569768, -0.66587168, -0.79710832],\n",
       "       [ 0.63817934,  0.84962818, -0.20477173,  0.13420812]])"
      ]
     },
     "execution_count": 12,
     "metadata": {},
     "output_type": "execute_result"
    }
   ],
   "source": [
    "model.layers[0].weights"
   ]
  }
 ],
 "metadata": {
  "kernelspec": {
   "display_name": "Python 3",
   "language": "python",
   "name": "python3"
  },
  "language_info": {
   "codemirror_mode": {
    "name": "ipython",
    "version": 3
   },
   "file_extension": ".py",
   "mimetype": "text/x-python",
   "name": "python",
   "nbconvert_exporter": "python",
   "pygments_lexer": "ipython3",
   "version": "3.11.2"
  },
  "orig_nbformat": 4
 },
 "nbformat": 4,
 "nbformat_minor": 2
}
