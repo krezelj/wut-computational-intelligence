{
 "cells": [
  {
   "cell_type": "code",
   "execution_count": 1,
   "metadata": {},
   "outputs": [],
   "source": [
    "%load_ext autoreload\n",
    "%autoreload 2"
   ]
  },
  {
   "cell_type": "code",
   "execution_count": 2,
   "metadata": {},
   "outputs": [],
   "source": [
    "import numpy as np\n",
    "import pandas as pd\n",
    "import seaborn as sns\n",
    "\n",
    "from src.mlp import MLP\n",
    "from src.layer import Layer\n",
    "from src.activations import *\n",
    "from src.optimisers import Adam\n",
    "from src.visualisation import plot\n",
    "\n",
    "from sklearn.metrics import mean_squared_error, log_loss, f1_score, confusion_matrix\n",
    "from sklearn.preprocessing import OneHotEncoder, StandardScaler\n",
    "from sklearn.model_selection import ParameterGrid"
   ]
  },
  {
   "cell_type": "code",
   "execution_count": 64,
   "metadata": {},
   "outputs": [],
   "source": [
    "def get_data_regression(dataset_name):\n",
    "    df_training = pd.read_csv(f\"data/mio1/regression/{dataset_name}-training.csv\")\n",
    "    df_test = pd.read_csv(f\"data/mio1/regression/{dataset_name}-test.csv\")\n",
    "\n",
    "    x_train = df_training[['x']].values\n",
    "    y_train = df_training[['y']].values\n",
    "\n",
    "    x_test = df_test[['x']].values\n",
    "    y_test = df_test[['y']].values\n",
    "\n",
    "    x_ss = StandardScaler()\n",
    "    x_train = x_ss.fit_transform(x_train).T\n",
    "    x_test = x_ss.transform(x_test).T\n",
    "\n",
    "    y_ss = StandardScaler()\n",
    "    y_train = y_ss.fit_transform(y_train).T\n",
    "    y_test = y_ss.fit_transform(y_test).T\n",
    "\n",
    "    return x_train, y_train, x_test, y_test"
   ]
  },
  {
   "cell_type": "code",
   "execution_count": 68,
   "metadata": {},
   "outputs": [],
   "source": [
    "def get_data_classification(dataset_name):\n",
    "    df_training = pd.read_csv(f\"data/mio1/classification/{dataset_name}-training.csv\")\n",
    "    df_test = pd.read_csv(f\"data/mio1/classification/{dataset_name}-test.csv\")\n",
    "\n",
    "    x_train = df_training[['x', 'y']].values.T\n",
    "    y_train = df_training['c'].values.reshape(-1, 1)\n",
    "\n",
    "    x_test = df_test[['x', 'y']].values.T\n",
    "    y_test = df_test['c'].values.reshape(-1, 1)\n",
    "\n",
    "    enc = OneHotEncoder(sparse_output=False)\n",
    "    y_train_oh = enc.fit_transform(y_train).T\n",
    "    y_test_oh = enc.transform(y_test).T\n",
    "\n",
    "    standard_scaler = StandardScaler()\n",
    "    x_train = standard_scaler.fit_transform(x_train.T).T\n",
    "    x_test = standard_scaler.transform(x_test.T).T\n",
    "\n",
    "    return x_train, y_train_oh, x_test, y_test_oh"
   ]
  },
  {
   "attachments": {},
   "cell_type": "markdown",
   "metadata": {},
   "source": [
    "### Ocena Modeli i Funkcji Aktywacji"
   ]
  },
  {
   "cell_type": "code",
   "execution_count": 65,
   "metadata": {},
   "outputs": [],
   "source": [
    "mml_x_train, mml_y_train, mml_x_test, mml_y_test = get_data_regression(\"multimodal-large\")"
   ]
  },
  {
   "cell_type": "code",
   "execution_count": 37,
   "metadata": {},
   "outputs": [],
   "source": [
    "def model_factory(n_hidden_layers, size_hidden, activation_name):\n",
    "    steps = [Layer(1, size_hidden), get_activation_by_name(activation_name)]\n",
    "    for _ in range(n_hidden_layers-1):\n",
    "        steps.append(Layer(size_hidden, size_hidden))\n",
    "        steps.append(get_activation_by_name(activation_name))\n",
    "    steps.extend([Layer(size_hidden, 1), Linear()])\n",
    "    return MLP(steps, optimiser=Adam())\n"
   ]
  },
  {
   "cell_type": "code",
   "execution_count": 5,
   "metadata": {},
   "outputs": [],
   "source": [
    "def evaluate_model(model : MLP):\n",
    "    model.fit(mml_x_train, mml_y_train, epochs=1_000, batch_size=50)\n",
    "\n",
    "    y_predicted = model.predict(mml_x_test)\n",
    "    return mean_squared_error(mml_y_test.T, y_predicted.T)"
   ]
  },
  {
   "cell_type": "code",
   "execution_count": 6,
   "metadata": {},
   "outputs": [],
   "source": [
    "param_grid = {\n",
    "    'n_hidden_layers': [1, 2, 3],\n",
    "    'size_hidden': [3, 5, 7, 10],\n",
    "    'activation_name': ['relu', 'tanh', 'sigmoid']\n",
    "}\n",
    "parameters = list(ParameterGrid(param_grid))"
   ]
  },
  {
   "cell_type": "code",
   "execution_count": null,
   "metadata": {},
   "outputs": [],
   "source": [
    "results = pd.DataFrame(columns=['n_hidden_layers', 'size_hidden', 'activation_name', 'loss'])\n",
    "\n",
    "for i, parameter_set in enumerate(parameters):\n",
    "    print(f\"Evalating model {i+1}/{len(parameters)}\")\n",
    "    model = model_factory(parameter_set['n_hidden_layers'], parameter_set['size_hidden'], parameter_set['activation_name'])\n",
    "    parameter_set['loss'] = evaluate_model(model)\n",
    "    results.loc[len(results)] = parameter_set"
   ]
  },
  {
   "cell_type": "code",
   "execution_count": 15,
   "metadata": {},
   "outputs": [
    {
     "data": {
      "text/html": [
       "<div>\n",
       "<style scoped>\n",
       "    .dataframe tbody tr th:only-of-type {\n",
       "        vertical-align: middle;\n",
       "    }\n",
       "\n",
       "    .dataframe tbody tr th {\n",
       "        vertical-align: top;\n",
       "    }\n",
       "\n",
       "    .dataframe thead th {\n",
       "        text-align: right;\n",
       "    }\n",
       "</style>\n",
       "<table border=\"1\" class=\"dataframe\">\n",
       "  <thead>\n",
       "    <tr style=\"text-align: right;\">\n",
       "      <th></th>\n",
       "      <th>n_hidden_layers</th>\n",
       "      <th>size_hidden</th>\n",
       "      <th>activation_name</th>\n",
       "      <th>loss</th>\n",
       "    </tr>\n",
       "  </thead>\n",
       "  <tbody>\n",
       "    <tr>\n",
       "      <th>19</th>\n",
       "      <td>2</td>\n",
       "      <td>10</td>\n",
       "      <td>tanh</td>\n",
       "      <td>0.000420</td>\n",
       "    </tr>\n",
       "    <tr>\n",
       "      <th>23</th>\n",
       "      <td>3</td>\n",
       "      <td>10</td>\n",
       "      <td>tanh</td>\n",
       "      <td>0.000527</td>\n",
       "    </tr>\n",
       "    <tr>\n",
       "      <th>21</th>\n",
       "      <td>3</td>\n",
       "      <td>5</td>\n",
       "      <td>tanh</td>\n",
       "      <td>0.000542</td>\n",
       "    </tr>\n",
       "    <tr>\n",
       "      <th>22</th>\n",
       "      <td>3</td>\n",
       "      <td>7</td>\n",
       "      <td>tanh</td>\n",
       "      <td>0.000594</td>\n",
       "    </tr>\n",
       "    <tr>\n",
       "      <th>17</th>\n",
       "      <td>2</td>\n",
       "      <td>5</td>\n",
       "      <td>tanh</td>\n",
       "      <td>0.001664</td>\n",
       "    </tr>\n",
       "    <tr>\n",
       "      <th>11</th>\n",
       "      <td>3</td>\n",
       "      <td>10</td>\n",
       "      <td>relu</td>\n",
       "      <td>0.001779</td>\n",
       "    </tr>\n",
       "    <tr>\n",
       "      <th>7</th>\n",
       "      <td>2</td>\n",
       "      <td>10</td>\n",
       "      <td>relu</td>\n",
       "      <td>0.006566</td>\n",
       "    </tr>\n",
       "    <tr>\n",
       "      <th>18</th>\n",
       "      <td>2</td>\n",
       "      <td>7</td>\n",
       "      <td>tanh</td>\n",
       "      <td>0.008834</td>\n",
       "    </tr>\n",
       "    <tr>\n",
       "      <th>15</th>\n",
       "      <td>1</td>\n",
       "      <td>10</td>\n",
       "      <td>tanh</td>\n",
       "      <td>0.016609</td>\n",
       "    </tr>\n",
       "    <tr>\n",
       "      <th>35</th>\n",
       "      <td>3</td>\n",
       "      <td>10</td>\n",
       "      <td>sigmoid</td>\n",
       "      <td>0.020190</td>\n",
       "    </tr>\n",
       "    <tr>\n",
       "      <th>14</th>\n",
       "      <td>1</td>\n",
       "      <td>7</td>\n",
       "      <td>tanh</td>\n",
       "      <td>0.020435</td>\n",
       "    </tr>\n",
       "    <tr>\n",
       "      <th>31</th>\n",
       "      <td>2</td>\n",
       "      <td>10</td>\n",
       "      <td>sigmoid</td>\n",
       "      <td>0.022970</td>\n",
       "    </tr>\n",
       "    <tr>\n",
       "      <th>30</th>\n",
       "      <td>2</td>\n",
       "      <td>7</td>\n",
       "      <td>sigmoid</td>\n",
       "      <td>0.029149</td>\n",
       "    </tr>\n",
       "    <tr>\n",
       "      <th>27</th>\n",
       "      <td>1</td>\n",
       "      <td>10</td>\n",
       "      <td>sigmoid</td>\n",
       "      <td>0.041764</td>\n",
       "    </tr>\n",
       "    <tr>\n",
       "      <th>6</th>\n",
       "      <td>2</td>\n",
       "      <td>7</td>\n",
       "      <td>relu</td>\n",
       "      <td>0.045186</td>\n",
       "    </tr>\n",
       "    <tr>\n",
       "      <th>16</th>\n",
       "      <td>2</td>\n",
       "      <td>3</td>\n",
       "      <td>tanh</td>\n",
       "      <td>0.050723</td>\n",
       "    </tr>\n",
       "    <tr>\n",
       "      <th>10</th>\n",
       "      <td>3</td>\n",
       "      <td>7</td>\n",
       "      <td>relu</td>\n",
       "      <td>0.070952</td>\n",
       "    </tr>\n",
       "    <tr>\n",
       "      <th>33</th>\n",
       "      <td>3</td>\n",
       "      <td>5</td>\n",
       "      <td>sigmoid</td>\n",
       "      <td>0.076660</td>\n",
       "    </tr>\n",
       "    <tr>\n",
       "      <th>29</th>\n",
       "      <td>2</td>\n",
       "      <td>5</td>\n",
       "      <td>sigmoid</td>\n",
       "      <td>0.080079</td>\n",
       "    </tr>\n",
       "    <tr>\n",
       "      <th>26</th>\n",
       "      <td>1</td>\n",
       "      <td>7</td>\n",
       "      <td>sigmoid</td>\n",
       "      <td>0.084420</td>\n",
       "    </tr>\n",
       "    <tr>\n",
       "      <th>13</th>\n",
       "      <td>1</td>\n",
       "      <td>5</td>\n",
       "      <td>tanh</td>\n",
       "      <td>0.088848</td>\n",
       "    </tr>\n",
       "    <tr>\n",
       "      <th>2</th>\n",
       "      <td>1</td>\n",
       "      <td>7</td>\n",
       "      <td>relu</td>\n",
       "      <td>0.091820</td>\n",
       "    </tr>\n",
       "    <tr>\n",
       "      <th>32</th>\n",
       "      <td>3</td>\n",
       "      <td>3</td>\n",
       "      <td>sigmoid</td>\n",
       "      <td>0.182414</td>\n",
       "    </tr>\n",
       "    <tr>\n",
       "      <th>25</th>\n",
       "      <td>1</td>\n",
       "      <td>5</td>\n",
       "      <td>sigmoid</td>\n",
       "      <td>0.184797</td>\n",
       "    </tr>\n",
       "    <tr>\n",
       "      <th>12</th>\n",
       "      <td>1</td>\n",
       "      <td>3</td>\n",
       "      <td>tanh</td>\n",
       "      <td>0.207367</td>\n",
       "    </tr>\n",
       "    <tr>\n",
       "      <th>20</th>\n",
       "      <td>3</td>\n",
       "      <td>3</td>\n",
       "      <td>tanh</td>\n",
       "      <td>0.242038</td>\n",
       "    </tr>\n",
       "    <tr>\n",
       "      <th>34</th>\n",
       "      <td>3</td>\n",
       "      <td>7</td>\n",
       "      <td>sigmoid</td>\n",
       "      <td>0.260838</td>\n",
       "    </tr>\n",
       "    <tr>\n",
       "      <th>4</th>\n",
       "      <td>2</td>\n",
       "      <td>3</td>\n",
       "      <td>relu</td>\n",
       "      <td>0.261339</td>\n",
       "    </tr>\n",
       "    <tr>\n",
       "      <th>3</th>\n",
       "      <td>1</td>\n",
       "      <td>10</td>\n",
       "      <td>relu</td>\n",
       "      <td>0.266576</td>\n",
       "    </tr>\n",
       "    <tr>\n",
       "      <th>9</th>\n",
       "      <td>3</td>\n",
       "      <td>5</td>\n",
       "      <td>relu</td>\n",
       "      <td>0.270541</td>\n",
       "    </tr>\n",
       "    <tr>\n",
       "      <th>28</th>\n",
       "      <td>2</td>\n",
       "      <td>3</td>\n",
       "      <td>sigmoid</td>\n",
       "      <td>0.307326</td>\n",
       "    </tr>\n",
       "    <tr>\n",
       "      <th>24</th>\n",
       "      <td>1</td>\n",
       "      <td>3</td>\n",
       "      <td>sigmoid</td>\n",
       "      <td>0.318385</td>\n",
       "    </tr>\n",
       "    <tr>\n",
       "      <th>8</th>\n",
       "      <td>3</td>\n",
       "      <td>3</td>\n",
       "      <td>relu</td>\n",
       "      <td>0.320613</td>\n",
       "    </tr>\n",
       "    <tr>\n",
       "      <th>5</th>\n",
       "      <td>2</td>\n",
       "      <td>5</td>\n",
       "      <td>relu</td>\n",
       "      <td>0.321268</td>\n",
       "    </tr>\n",
       "    <tr>\n",
       "      <th>1</th>\n",
       "      <td>1</td>\n",
       "      <td>5</td>\n",
       "      <td>relu</td>\n",
       "      <td>0.450138</td>\n",
       "    </tr>\n",
       "    <tr>\n",
       "      <th>0</th>\n",
       "      <td>1</td>\n",
       "      <td>3</td>\n",
       "      <td>relu</td>\n",
       "      <td>0.450588</td>\n",
       "    </tr>\n",
       "  </tbody>\n",
       "</table>\n",
       "</div>"
      ],
      "text/plain": [
       "    n_hidden_layers  size_hidden activation_name      loss\n",
       "19                2           10            tanh  0.000420\n",
       "23                3           10            tanh  0.000527\n",
       "21                3            5            tanh  0.000542\n",
       "22                3            7            tanh  0.000594\n",
       "17                2            5            tanh  0.001664\n",
       "11                3           10            relu  0.001779\n",
       "7                 2           10            relu  0.006566\n",
       "18                2            7            tanh  0.008834\n",
       "15                1           10            tanh  0.016609\n",
       "35                3           10         sigmoid  0.020190\n",
       "14                1            7            tanh  0.020435\n",
       "31                2           10         sigmoid  0.022970\n",
       "30                2            7         sigmoid  0.029149\n",
       "27                1           10         sigmoid  0.041764\n",
       "6                 2            7            relu  0.045186\n",
       "16                2            3            tanh  0.050723\n",
       "10                3            7            relu  0.070952\n",
       "33                3            5         sigmoid  0.076660\n",
       "29                2            5         sigmoid  0.080079\n",
       "26                1            7         sigmoid  0.084420\n",
       "13                1            5            tanh  0.088848\n",
       "2                 1            7            relu  0.091820\n",
       "32                3            3         sigmoid  0.182414\n",
       "25                1            5         sigmoid  0.184797\n",
       "12                1            3            tanh  0.207367\n",
       "20                3            3            tanh  0.242038\n",
       "34                3            7         sigmoid  0.260838\n",
       "4                 2            3            relu  0.261339\n",
       "3                 1           10            relu  0.266576\n",
       "9                 3            5            relu  0.270541\n",
       "28                2            3         sigmoid  0.307326\n",
       "24                1            3         sigmoid  0.318385\n",
       "8                 3            3            relu  0.320613\n",
       "5                 2            5            relu  0.321268\n",
       "1                 1            5            relu  0.450138\n",
       "0                 1            3            relu  0.450588"
      ]
     },
     "execution_count": 15,
     "metadata": {},
     "output_type": "execute_result"
    }
   ],
   "source": [
    "results.sort_values(by='loss')"
   ]
  },
  {
   "attachments": {},
   "cell_type": "markdown",
   "metadata": {},
   "source": [
    "### Testowanie najlepszych architektur"
   ]
  },
  {
   "cell_type": "markdown",
   "metadata": {},
   "source": [
    "**Steps Large**"
   ]
  },
  {
   "cell_type": "code",
   "execution_count": null,
   "metadata": {},
   "outputs": [],
   "source": [
    "model_A = MLP(steps=[\n",
    "    Layer(1, 10), Tanh(),\n",
    "    Layer(10, 10), Tanh(),\n",
    "    Layer(10, 1), Linear()\n",
    "], optimiser=Adam(learning_rate=5e-4))\n",
    "\n",
    "model_B = MLP(steps=[\n",
    "    Layer(1, 5), Tanh(),\n",
    "    Layer(5, 5), Tanh(),\n",
    "    Layer(5, 5), Tanh(),\n",
    "    Layer(5, 1), Linear()\n",
    "], optimiser=Adam(learning_rate=5e-4))"
   ]
  },
  {
   "cell_type": "code",
   "execution_count": 67,
   "metadata": {},
   "outputs": [],
   "source": [
    "sl_x_train, sl_y_train, sl_x_test, sl_y_test = get_data_regression(\"steps-large\")"
   ]
  },
  {
   "cell_type": "code",
   "execution_count": null,
   "metadata": {},
   "outputs": [],
   "source": [
    "loss_A = model_A.fit(sl_x_train, sl_y_train, epochs=2_500, batch_size=100, verbose=2)\n",
    "loss_B = model_B.fit(sl_x_train, sl_y_train, epochs=2_500, batch_size=100, verbose=2)"
   ]
  },
  {
   "cell_type": "code",
   "execution_count": 31,
   "metadata": {},
   "outputs": [
    {
     "data": {
      "text/plain": [
       "<Axes: >"
      ]
     },
     "execution_count": 31,
     "metadata": {},
     "output_type": "execute_result"
    },
    {
     "data": {
      "image/png": "[encoded data removed]",
      "text/plain": [
       "<Figure size 640x480 with 1 Axes>"
      ]
     },
     "metadata": {},
     "output_type": "display_data"
    }
   ],
   "source": [
    "sns.lineplot(np.log10(loss_A), label=\"2x10\")\n",
    "sns.lineplot(np.log10(loss_B), label=\"3x5\")"
   ]
  },
  {
   "cell_type": "markdown",
   "metadata": {},
   "source": [
    "**Rings5-Regular**"
   ]
  },
  {
   "cell_type": "code",
   "execution_count": 78,
   "metadata": {},
   "outputs": [],
   "source": [
    "model_A = MLP(steps=[\n",
    "    Layer(2, 10), Tanh(),\n",
    "    Layer(10, 10), Tanh(),\n",
    "    Layer(10, 5), Softmax()\n",
    "], optimiser=Adam())\n",
    "\n",
    "model_B = MLP(steps=[\n",
    "    Layer(2, 5), Tanh(),\n",
    "    Layer(5, 5), Tanh(),\n",
    "    Layer(5, 5), Tanh(),\n",
    "    Layer(5, 5), Softmax()\n",
    "], optimiser=Adam())"
   ]
  },
  {
   "cell_type": "code",
   "execution_count": 79,
   "metadata": {},
   "outputs": [],
   "source": [
    "r5_x_train, r5_y_train, r5_x_test, r5_y_test = get_data_classification(\"rings5-regular\")"
   ]
  },
  {
   "cell_type": "code",
   "execution_count": null,
   "metadata": {},
   "outputs": [],
   "source": [
    "loss_A = model_A.fit(r5_x_train, r5_y_train, epochs=2_500, batch_size=50, verbose=2)\n",
    "loss_B = model_B.fit(r5_x_train, r5_y_train, epochs=2_500, batch_size=50, verbose=2)"
   ]
  },
  {
   "cell_type": "code",
   "execution_count": 81,
   "metadata": {},
   "outputs": [
    {
     "data": {
      "text/plain": [
       "<Axes: >"
      ]
     },
     "execution_count": 81,
     "metadata": {},
     "output_type": "execute_result"
    },
    {
     "data": {
      "image/png": "[encoded data removed]",
      "text/plain": [
       "<Figure size 640x480 with 1 Axes>"
      ]
     },
     "metadata": {},
     "output_type": "display_data"
    }
   ],
   "source": [
    "sns.lineplot(np.log10(loss_A), label=\"2x10\")\n",
    "sns.lineplot(np.log10(loss_B), label=\"3x5\")"
   ]
  },
  {
   "cell_type": "markdown",
   "metadata": {},
   "source": [
    "**Rings3-Regular**"
   ]
  },
  {
   "cell_type": "code",
   "execution_count": 97,
   "metadata": {},
   "outputs": [],
   "source": [
    "r3_x_train, r3_y_train, r3_x_test, r3_y_test = get_data_classification(\"rings3-regular\")"
   ]
  },
  {
   "cell_type": "code",
   "execution_count": null,
   "metadata": {},
   "outputs": [],
   "source": [
    "N_runs = 10\n",
    "\n",
    "loss_A = np.zeros(shape=(N_runs, 2500))\n",
    "loss_B = np.zeros(shape=(N_runs, 2500))\n",
    "\n",
    "for i in range(N_runs):\n",
    "    model_A = MLP(steps=[\n",
    "        Layer(2, 10), Tanh(),\n",
    "        Layer(10, 10), Tanh(),\n",
    "        Layer(10, 3), Softmax()\n",
    "    ], optimiser=Adam())\n",
    "\n",
    "    model_B = MLP(steps=[\n",
    "        Layer(2, 5), Tanh(),\n",
    "        Layer(5, 5), Tanh(),\n",
    "        Layer(5, 5), Tanh(),\n",
    "        Layer(5, 3), Softmax()\n",
    "    ], optimiser=Adam())\n",
    "\n",
    "    loss_A[i,:] = model_A.fit(r3_x_train, r3_y_train, epochs=2_500, batch_size=50, verbose=1)\n",
    "    loss_B[i,:] = model_B.fit(r3_x_train, r3_y_train, epochs=2_500, batch_size=50, verbose=1)\n",
    "\n",
    "loss_A = np.mean(loss_A, axis=0)\n",
    "loss_B = np.mean(loss_B, axis=0)"
   ]
  },
  {
   "cell_type": "code",
   "execution_count": 99,
   "metadata": {},
   "outputs": [
    {
     "data": {
      "text/plain": [
       "<Axes: >"
      ]
     },
     "execution_count": 99,
     "metadata": {},
     "output_type": "execute_result"
    },
    {
     "data": {
      "image/png": "[encoded data removed]",
      "text/plain": [
       "<Figure size 640x480 with 1 Axes>"
      ]
     },
     "metadata": {},
     "output_type": "display_data"
    }
   ],
   "source": [
    "sns.lineplot(np.log10(loss_A), label=\"2x10\")\n",
    "sns.lineplot(np.log10(loss_B), label=\"3x5\")"
   ]
  }
 ],
 "metadata": {
  "kernelspec": {
   "display_name": "Python 3",
   "language": "python",
   "name": "python3"
  },
  "language_info": {
   "codemirror_mode": {
    "name": "ipython",
    "version": 3
   },
   "file_extension": ".py",
   "mimetype": "text/x-python",
   "name": "python",
   "nbconvert_exporter": "python",
   "pygments_lexer": "ipython3",
   "version": "3.11.2"
  },
  "orig_nbformat": 4
 },
 "nbformat": 4,
 "nbformat_minor": 2
}
