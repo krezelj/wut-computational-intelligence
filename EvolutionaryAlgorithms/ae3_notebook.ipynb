{
 "cells": [
  {
   "cell_type": "code",
   "execution_count": 1,
   "metadata": {},
   "outputs": [],
   "source": [
    "%load_ext autoreload\n",
    "%autoreload 0"
   ]
  },
  {
   "cell_type": "code",
   "execution_count": 2,
   "metadata": {},
   "outputs": [],
   "source": [
    "from src import *\n",
    "import pandas as pd\n",
    "import numpy as np\n",
    "import matplotlib.pyplot as plt\n",
    "from sklearn.preprocessing import OneHotEncoder\n",
    "from sklearn.metrics import mean_squared_error, log_loss\n",
    "from scipy.special import softmax"
   ]
  },
  {
   "cell_type": "code",
   "execution_count": 3,
   "metadata": {},
   "outputs": [],
   "source": [
    "def relu(x):\n",
    "    return np.maximum(0, x)\n",
    "\n",
    "def linear(x):\n",
    "    return x\n",
    "\n",
    "def batch_softmax(x):\n",
    "    return softmax(x, axis=0)"
   ]
  },
  {
   "cell_type": "code",
   "execution_count": 4,
   "metadata": {},
   "outputs": [],
   "source": [
    "df_iris = pd.read_csv('data/mlp/iris.csv', header=None)\n",
    "X_iris = df_iris[[0, 1, 2, 3]].values.T\n",
    "Y_iris = df_iris[[4]]\n",
    "ohe = OneHotEncoder(sparse_output=False)\n",
    "Y_iris = ohe.fit_transform(Y_iris).T"
   ]
  },
  {
   "cell_type": "code",
   "execution_count": 5,
   "metadata": {},
   "outputs": [],
   "source": [
    "df_cars = pd.read_csv('data/mlp/auto-mpg.csv', header=None, delim_whitespace=True)\n",
    "df_cars = df_cars[df_cars[3] != '?']\n",
    "X_cars = df_cars[[0, 2, 3, 4, 5, 6, 7]].values.T.astype(np.float32)\n",
    "Y_cars = df_cars[[1]].values.T"
   ]
  },
  {
   "cell_type": "code",
   "execution_count": 13,
   "metadata": {},
   "outputs": [],
   "source": [
    "df_mm = pd.read_csv('data/mlp/multimodal-large-training.csv')\n",
    "X_mm = df_mm[['x']].values.T\n",
    "Y_mm = df_mm[['y']].values.T / 100"
   ]
  },
  {
   "cell_type": "code",
   "execution_count": 7,
   "metadata": {},
   "outputs": [],
   "source": [
    "def calculate_n_weights(architecture):\n",
    "    s = 0\n",
    "    for i in range(len(architecture) - 1):\n",
    "        s += (architecture[i] + 1) * architecture[i + 1]\n",
    "    return s"
   ]
  },
  {
   "cell_type": "code",
   "execution_count": 20,
   "metadata": {},
   "outputs": [
    {
     "data": {
      "text/plain": [
       "15"
      ]
     },
     "execution_count": 20,
     "metadata": {},
     "output_type": "execute_result"
    }
   ],
   "source": [
    "architecture = [4, 3]\n",
    "calculate_n_weights(architecture)"
   ]
  },
  {
   "cell_type": "code",
   "execution_count": 37,
   "metadata": {},
   "outputs": [
    {
     "name": "stdout",
     "output_type": "stream",
     "text": [
      "generation: 5\n",
      "generation: 10\n",
      "generation: 15\n",
      "generation: 20\n",
      "generation: 25\n",
      "generation: 30\n"
     ]
    }
   ],
   "source": [
    "MLP.set_parameters(X_iris, Y_iris, relu, batch_softmax, log_loss)\n",
    "evolution = Evolution(MLP, 100, 10, \n",
    "                      init_args={'architecture': architecture}, \n",
    "                      mutation_args={'p': 0.2, 'strength': 1.0}, \n",
    "                      allow_crossover=True)\n",
    "evolution.simulate(30)\n",
    "s, e = evolution.get_best_specimen()\n",
    "while input(f\"Current best fitness is {e}. Continue? [y/n] \") == 'y':\n",
    "    generations = int(input(\"How many generations? \"))\n",
    "    evolution.simulate(generations)\n",
    "    s, e = evolution.get_best_specimen()"
   ]
  },
  {
   "cell_type": "code",
   "execution_count": 38,
   "metadata": {},
   "outputs": [
    {
     "data": {
      "text/plain": [
       "-0.26828651321885144"
      ]
     },
     "execution_count": 38,
     "metadata": {},
     "output_type": "execute_result"
    }
   ],
   "source": [
    "e"
   ]
  },
  {
   "cell_type": "code",
   "execution_count": 39,
   "metadata": {},
   "outputs": [],
   "source": [
    "output = MLP.X\n",
    "for i, (W, b) in enumerate(s.genes):\n",
    "    if i < len(s.genes) - 1:\n",
    "        output = MLP.activation_function(W @ output + b)\n",
    "    else:\n",
    "        output = MLP.output_activation(W @ output + b)"
   ]
  },
  {
   "cell_type": "code",
   "execution_count": 40,
   "metadata": {},
   "outputs": [
    {
     "data": {
      "text/plain": [
       "0.96"
      ]
     },
     "execution_count": 40,
     "metadata": {},
     "output_type": "execute_result"
    }
   ],
   "source": [
    "np.mean(output.argmax(axis=0) == Y_iris.argmax(axis=0))"
   ]
  },
  {
   "cell_type": "code",
   "execution_count": 41,
   "metadata": {},
   "outputs": [
    {
     "data": {
      "text/plain": [
       "28"
      ]
     },
     "execution_count": 41,
     "metadata": {},
     "output_type": "execute_result"
    }
   ],
   "source": [
    "architecture = [7, 3, 1]\n",
    "calculate_n_weights(architecture)"
   ]
  },
  {
   "cell_type": "code",
   "execution_count": 46,
   "metadata": {},
   "outputs": [
    {
     "name": "stdout",
     "output_type": "stream",
     "text": [
      "generation: 5\n",
      "generation: 10\n",
      "generation: 15\n",
      "generation: 20\n",
      "generation: 25\n",
      "generation: 30\n",
      "generation: 35\n",
      "generation: 40\n",
      "generation: 45\n",
      "generation: 50\n",
      "generation: 55\n",
      "generation: 60\n",
      "generation: 65\n",
      "generation: 70\n",
      "generation: 75\n",
      "generation: 80\n",
      "generation: 85\n",
      "generation: 90\n",
      "generation: 95\n",
      "generation: 100\n",
      "generation: 105\n",
      "generation: 110\n",
      "generation: 115\n",
      "generation: 120\n",
      "generation: 125\n",
      "generation: 130\n",
      "generation: 135\n",
      "generation: 140\n",
      "generation: 145\n",
      "generation: 150\n",
      "generation: 155\n",
      "generation: 160\n",
      "generation: 165\n",
      "generation: 170\n",
      "generation: 175\n",
      "generation: 180\n",
      "generation: 185\n",
      "generation: 190\n",
      "generation: 195\n",
      "generation: 200\n"
     ]
    }
   ],
   "source": [
    "MLP.set_parameters(X_cars, Y_cars, relu, linear, mean_squared_error)\n",
    "evolution = Evolution(MLP, 100, 10, \n",
    "                      init_args={'architecture': architecture}, \n",
    "                      mutation_args={'p': 0.2, 'strength': 1.0}, \n",
    "                      allow_crossover=False)\n",
    "evolution.simulate(200)\n",
    "s, e = evolution.get_best_specimen()\n",
    "while input(f\"Current best fitness is {e}. Continue? [y/n] \") == 'y':\n",
    "    generations = int(input(\"How many generations? \"))\n",
    "    evolution.simulate(generations)\n",
    "    s, e = evolution.get_best_specimen()"
   ]
  },
  {
   "cell_type": "code",
   "execution_count": 47,
   "metadata": {},
   "outputs": [
    {
     "data": {
      "text/plain": [
       "-0.23905024276275383"
      ]
     },
     "execution_count": 47,
     "metadata": {},
     "output_type": "execute_result"
    }
   ],
   "source": [
    "e"
   ]
  },
  {
   "cell_type": "code",
   "execution_count": 16,
   "metadata": {},
   "outputs": [
    {
     "data": {
      "text/plain": [
       "31"
      ]
     },
     "execution_count": 16,
     "metadata": {},
     "output_type": "execute_result"
    }
   ],
   "source": [
    "architecture = [1, 10, 1]\n",
    "calculate_n_weights(architecture)"
   ]
  },
  {
   "cell_type": "code",
   "execution_count": 17,
   "metadata": {},
   "outputs": [
    {
     "name": "stdout",
     "output_type": "stream",
     "text": [
      "generation: 5\n",
      "generation: 10\n",
      "generation: 15\n",
      "generation: 20\n",
      "generation: 25\n",
      "generation: 30\n",
      "generation: 35\n",
      "generation: 40\n",
      "generation: 45\n",
      "generation: 50\n"
     ]
    }
   ],
   "source": [
    "MLP.set_parameters(X_mm, Y_mm, relu, linear, mean_squared_error)\n",
    "evolution = Evolution(MLP, 100, 10, \n",
    "                      init_args={'architecture': architecture}, \n",
    "                      mutation_args={'p': 0.2, 'strength': 1.0}, \n",
    "                      allow_crossover=False)\n",
    "evolution.simulate(50)\n",
    "s, e = evolution.get_best_specimen()\n",
    "while input(f\"Current best fitness is {e}. Continue? [y/n] \") == 'y':\n",
    "    generations = int(input(\"How many generations? \"))\n",
    "    evolution.simulate(generations)\n",
    "    s, e = evolution.get_best_specimen()"
   ]
  },
  {
   "cell_type": "code",
   "execution_count": 18,
   "metadata": {},
   "outputs": [
    {
     "data": {
      "text/plain": [
       "-0.21196924268488457"
      ]
     },
     "execution_count": 18,
     "metadata": {},
     "output_type": "execute_result"
    }
   ],
   "source": [
    "e"
   ]
  }
 ],
 "metadata": {
  "kernelspec": {
   "display_name": "Python 3",
   "language": "python",
   "name": "python3"
  },
  "language_info": {
   "codemirror_mode": {
    "name": "ipython",
    "version": 3
   },
   "file_extension": ".py",
   "mimetype": "text/x-python",
   "name": "python",
   "nbconvert_exporter": "python",
   "pygments_lexer": "ipython3",
   "version": "3.11.2"
  },
  "orig_nbformat": 4
 },
 "nbformat": 4,
 "nbformat_minor": 2
}
